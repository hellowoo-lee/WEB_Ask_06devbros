{
 "metadata": {
  "language_info": {
   "codemirror_mode": {
    "name": "ipython",
    "version": 3
   },
   "file_extension": ".py",
   "mimetype": "text/x-python",
   "name": "python",
   "nbconvert_exporter": "python",
   "pygments_lexer": "ipython3",
   "version": "3.6.8-final"
  },
  "orig_nbformat": 2,
  "kernelspec": {
   "name": "Python 3.6.8 64-bit",
   "display_name": "Python 3.6.8 64-bit",
   "metadata": {
    "interpreter": {
     "hash": "e317281613622675685ce5fb34adf74717fd2c5fcee25eb6aab0c2b36e0ab9ab"
    }
   }
  }
 },
 "nbformat": 4,
 "nbformat_minor": 2,
 "cells": [
  {
   "cell_type": "code",
   "execution_count": 1,
   "metadata": {},
   "outputs": [],
   "source": [
    "import os, sys\n",
    "import numpy as np\n",
    "import torch"
   ]
  },
  {
   "cell_type": "code",
   "execution_count": 4,
   "metadata": {},
   "outputs": [],
   "source": [
    "from model.kogpt2 import DialogKoGPT2\n",
    "from kogpt2_transformers import get_kogpt2_tokenizer"
   ]
  },
  {
   "cell_type": "code",
   "execution_count": null,
   "metadata": {},
   "outputs": [],
   "source": [
    "# root_path='drive/My Drive/Colab Notebooks/dialogLM'\n",
    "root_path = '..'\n",
    "data_path = f\"{root_path}/data/wellness_dialog_for_autoregressive_train.txt\"\n",
    "checkpoint_path =f\"{root_path}/checkpoint\"\n",
    "# save_ckpt_path = f\"{checkpoint_path}/kogpt2-wellnesee-auto-regressive.pth\"\n",
    "save_ckpt_path = f\"{checkpoint_path}/kogpt2-catbot-wellness.pth\"\n",
    "\n",
    "ctx = \"cuda\" if torch.cuda.is_available() else \"cpu\"\n",
    "device = torch.device(ctx)\n",
    "\n",
    "# 저장한 Checkpoint 불러오기\n",
    "checkpoint = torch.load(save_ckpt_path, map_location=device)\n",
    "\n",
    "model = DialogKoGPT2()\n",
    "model.load_state_dict(checkpoint['model_state_dict'])\n",
    "\n",
    "model.eval()\n",
    "\n",
    "tokenizer = get_kogpt2_tokenizer()\n",
    "\n",
    "count = 0\n",
    "output_size = 200 # 출력하고자 하는 토큰 갯수\n",
    "\n",
    "while 1:\n",
    "# for i in range(5):\n",
    "  sent = input('Question: ')  # '요즘 기분이 우울한 느낌이에요'\n",
    "  tokenized_indexs = tokenizer.encode(sent)\n",
    "\n",
    "  input_ids = torch.tensor([tokenizer.bos_token_id,]  + tokenized_indexs +[tokenizer.eos_token_id]).unsqueeze(0)\n",
    "  # set top_k to 50\n",
    "  sample_output = model.generate(input_ids=input_ids)\n",
    "\n",
    "\n",
    "  print(\"Answer: \" + tokenizer.decode(sample_output[0].tolist()[len(tokenized_indexs)+1:],skip_special_tokens=True))\n",
    "  print(100 * '-')\n",
    "\n",
    "# for s in kss.split_sentences(sent):\n",
    "#     print(s)"
   ]
  }
 ]
}