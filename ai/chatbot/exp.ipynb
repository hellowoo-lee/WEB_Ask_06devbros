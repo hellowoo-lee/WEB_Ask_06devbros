{
 "metadata": {
  "language_info": {
   "codemirror_mode": {
    "name": "ipython",
    "version": 3
   },
   "file_extension": ".py",
   "mimetype": "text/x-python",
   "name": "python",
   "nbconvert_exporter": "python",
   "pygments_lexer": "ipython3",
   "version": "3.6.8-final"
  },
  "orig_nbformat": 2,
  "kernelspec": {
   "name": "Python 3.6.8 64-bit",
   "display_name": "Python 3.6.8 64-bit",
   "metadata": {
    "interpreter": {
     "hash": "e317281613622675685ce5fb34adf74717fd2c5fcee25eb6aab0c2b36e0ab9ab"
    }
   }
  }
 },
 "nbformat": 4,
 "nbformat_minor": 2,
 "cells": [
  {
   "cell_type": "code",
   "execution_count": 1,
   "metadata": {},
   "outputs": [
    {
     "output_type": "stream",
     "name": "stderr",
     "text": [
      "Setting `pad_token_id` to 50256 (first `eos_token_id`) to generate sequence\n",
      "GENERATED SEQUENCE : 안녕!</s><s> 오빠 잘 들어왔어요</s><s> 너무너무 죄송해요</s><s> 내가 잘못한 것 같아서 그렇게 생각해요</s><s> 오빠 전화 좀 받아요</s><s> 아랐어요</s><s> 오빠 내가 잘못한 것 정말 미안해요 이해해 주세요</s><s> 오빠가 미안해서 그러는 거니까 이해해 주세요 너무나도 죄송하고 죄송해요</s><s> 오빠 너무해</s><s> 오빠 내 꼬양</s><s> 잘 자</s><s> 야 너 왜 핸폰 꺼놓고 지랄이야</s><s> 아악\n",
      "GENERATED SEQUENCE : 안녕한가' 제작발표회에서 포즈를 취하고 있다.</s><s> 최근 ‘한밤의 TV연예’에서 ‘성형설’이 불거지자 송중기는 “(성형설은) 사실이 아니다”라고 해명글을 올렸다.</s><s> 당시 송중기는 “성형을 한 사실을 공개하겠다”라는 등의 입장을 전했다.</s><s> 송중기는 10일 ‘한밤의 TV연예’와 ‘문라이즈 스타뉴스’와의 인터뷰에서 결혼설에 대해 “사실무근이다”라고 밝혔다.</s><s>\n",
      "GENERATED SEQUENCE : 안녕하세요, 저는 이 사실을 전하려 합니다.</s><s> 이어 \"저희가 바라는 건 우리가 원하는 것이 아니라고 생각한다\"고 덧붙였다.</s><s> 그러면서 \"우리가 할 일은 북한 주민의 삶을 개선해나가는 것일 뿐이지 정치범 석방과 경제지원을 얘기하는 것은 아니다\"라며 \"우선은 제가 말씀드릴 수 있는 부분에 대한 구체적인 이야기를 하지 않을 수 없다\"고 설명했다.</s><s> 또 \"저는 (북한에) 오라고 한 적도 없다.</s><s> 단지 우리 국민을 보호하기 위한, 북한을 변화시키라는\n"
     ]
    }
   ],
   "source": [
    "import torch\n",
    "from kogpt2_transformers import get_kogpt2_model, get_kogpt2_tokenizer\n",
    "\n",
    "torch.manual_seed(42)\n",
    "\n",
    "model = get_kogpt2_model()\n",
    "tokenizer = get_kogpt2_tokenizer()\n",
    "\n",
    "input_ids = tokenizer.encode(\"안녕\", add_special_tokens=False, return_tensors=\"pt\")\n",
    "output_sequences = model.generate(input_ids=input_ids, do_sample=True, max_length=100, num_return_sequences=3)\n",
    "for generated_sequence in output_sequences:\n",
    "    generated_sequence = generated_sequence.tolist()\n",
    "    print(\"GENERATED SEQUENCE : {0}\".format(tokenizer.decode(generated_sequence, clean_up_tokenization_spaces=True)))"
   ]
  },
  {
   "cell_type": "code",
   "execution_count": null,
   "metadata": {},
   "outputs": [],
   "source": []
  }
 ]
}