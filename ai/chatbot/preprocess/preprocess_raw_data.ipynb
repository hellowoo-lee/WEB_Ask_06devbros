{
 "metadata": {
  "language_info": {
   "codemirror_mode": {
    "name": "ipython",
    "version": 3
   },
   "file_extension": ".py",
   "mimetype": "text/x-python",
   "name": "python",
   "nbconvert_exporter": "python",
   "pygments_lexer": "ipython3",
   "version": "3.6.8-final"
  },
  "orig_nbformat": 2,
  "kernelspec": {
   "name": "Python 3.6.8 64-bit",
   "display_name": "Python 3.6.8 64-bit",
   "metadata": {
    "interpreter": {
     "hash": "e317281613622675685ce5fb34adf74717fd2c5fcee25eb6aab0c2b36e0ab9ab"
    }
   }
  }
 },
 "nbformat": 4,
 "nbformat_minor": 2,
 "cells": [
  {
   "cell_type": "code",
   "execution_count": 1,
   "metadata": {},
   "outputs": [],
   "source": [
    "import openpyxl, os\n",
    "import random\n",
    "from openpyxl import Workbook, load_workbook"
   ]
  },
  {
   "cell_type": "code",
   "execution_count": 7,
   "metadata": {},
   "outputs": [],
   "source": [
    "root_path = \"..\\\\data\"\n",
    "chatbot_raw_data = root_path + \"\\\\ChatbotData .csv\"\n",
    "\n",
    "wellness_raw_data = root_path + \"\\\\wellness_dialog_dataset.xlsx\"\n",
    "wellness_q_data = root_path + \"\\\\wellness_q_data.txt\"\n",
    "wellness_a_data = root_path + \"\\\\wellness_a_data.txt\"\n",
    "wellness_qna_data = root_path + \"\\\\wellness_auto_regressive.txt\"\n",
    "\n",
    "chatbot_wellness_merged = root_path + \"\\\\chatbot_wellness_data_for_autoregressive.txt\""
   ]
  },
  {
   "cell_type": "code",
   "execution_count": 8,
   "metadata": {},
   "outputs": [],
   "source": [
    "wb = load_workbook(filename=wellness_raw_data)\n",
    "ws = wb[wb.sheetnames[0]]"
   ]
  },
  {
   "cell_type": "code",
   "execution_count": 12,
   "metadata": {},
   "outputs": [],
   "source": [
    "f_q = open(wellness_q_data, 'w')\n",
    "f_a = open(wellness_a_data, 'w')\n",
    "\n",
    "for row in ws.iter_rows():\n",
    "    f_q.write(str(row[0].value)+\"\\t\"+str(row[1].value)+\"\\n\")\n",
    "    if row[2].value is not None:\n",
    "        f_a.write(str(row[0].value)+\"\\t\"+str(row[2].value)+\"\\n\")\n",
    "\n",
    "f_q.close()\n",
    "f_a.close()"
   ]
  },
  {
   "cell_type": "code",
   "execution_count": 9,
   "metadata": {
    "tags": []
   },
   "outputs": [],
   "source": [
    "f_q = open(wellness_q_data, \"r\")\n",
    "f_a = open(wellness_a_data, \"r\")\n",
    "f_qa = open(wellness_qna_data, \"w\")\n",
    "\n",
    "type_buffer = []\n",
    "q_buffer = []\n",
    "a_buffer = []\n",
    "\n",
    "for row in ws.iter_rows():\n",
    "    if type_buffer == row[0].value or type_buffer is None:\n",
    "        type_buffer == row[0]\n",
    "        q_buffer.append(row[1].value)\n",
    "        if row[2].value is not None:\n",
    "            a_buffer.append(row[2].value)\n",
    "    else:\n",
    "        for i in range(len(q_buffer)):\n",
    "            for j in range(len(a_buffer)):\n",
    "                f_qa.writelines(type_buffer + \"\\t\" + q_buffer[i] + \"\\t\" + a_buffer[j] + \"\\n\")\n",
    "        type_buffer = row[0].value\n",
    "        q_buffer = []\n",
    "        a_buffer = []\n",
    "        q_buffer.append(row[1].value)\n",
    "        if row[2].value is not None:\n",
    "            a_buffer.append(row[2].value)\n",
    "\n",
    "f_q.close()\n",
    "f_a.close()\n",
    "f_qa.close()"
   ]
  },
  {
   "cell_type": "code",
   "execution_count": null,
   "metadata": {},
   "outputs": [],
   "source": []
  }
 ]
}